{
  "nbformat": 4,
  "nbformat_minor": 0,
  "metadata": {
    "colab": {
      "provenance": [],
      "authorship_tag": "ABX9TyNam3y4i7WvHkwtTh3YsHi7",
      "include_colab_link": true
    },
    "kernelspec": {
      "name": "python3",
      "display_name": "Python 3"
    },
    "language_info": {
      "name": "python"
    }
  },
  "cells": [
    {
      "cell_type": "markdown",
      "metadata": {
        "id": "view-in-github",
        "colab_type": "text"
      },
      "source": [
        "<a href=\"https://colab.research.google.com/github/borissinchec/MyRepo/blob/main/taller_python_01.ipynb\" target=\"_parent\"><img src=\"https://colab.research.google.com/assets/colab-badge.svg\" alt=\"Open In Colab\"/></a>"
      ]
    },
    {
      "cell_type": "code",
      "execution_count": null,
      "metadata": {
        "id": "cQIbmc7HJPrB"
      },
      "outputs": [],
      "source": [
        "## Tipos de datos\n",
        "## Operadores\n",
        "## Contenedores de datos\n",
        "## Controladores de flujo\n",
        "## Funciones"
      ]
    },
    {
      "cell_type": "code",
      "source": [
        "3+7"
      ],
      "metadata": {
        "colab": {
          "base_uri": "https://localhost:8080/"
        },
        "id": "V1kJotUvKKPj",
        "outputId": "9f3e989e-119f-4506-bc05-44cafe9cd5da"
      },
      "execution_count": 1,
      "outputs": [
        {
          "output_type": "execute_result",
          "data": {
            "text/plain": [
              "10"
            ]
          },
          "metadata": {},
          "execution_count": 1
        }
      ]
    },
    {
      "cell_type": "code",
      "source": [
        "print(3+7)\n",
        "print(5-4)\n",
        "print(2*9)"
      ],
      "metadata": {
        "colab": {
          "base_uri": "https://localhost:8080/"
        },
        "id": "cM0zGu82KQow",
        "outputId": "9ff4dc05-f4ca-4264-da35-cd0ae9e374d0"
      },
      "execution_count": 3,
      "outputs": [
        {
          "output_type": "stream",
          "name": "stdout",
          "text": [
            "10\n",
            "1\n",
            "18\n"
          ]
        }
      ]
    },
    {
      "cell_type": "code",
      "source": [
        "## Tipos de datos\n",
        "## Integers, floats, booleans, string"
      ],
      "metadata": {
        "id": "F-Y7bnHUKheG"
      },
      "execution_count": null,
      "outputs": []
    },
    {
      "cell_type": "code",
      "source": [
        "4 #integer\n",
        "5 #integer\n",
        "3.5 #float\n",
        "3.8 #float\n",
        "True #boolean\n",
        "False #boolean\n",
        "\"Hola como estas\" #string"
      ],
      "metadata": {
        "colab": {
          "base_uri": "https://localhost:8080/",
          "height": 35
        },
        "id": "cwfiUrthKr7Y",
        "outputId": "fb55b74d-6b7c-4244-f29c-8eb5ba8e7397"
      },
      "execution_count": 4,
      "outputs": [
        {
          "output_type": "execute_result",
          "data": {
            "text/plain": [
              "'Hola como estas'"
            ],
            "application/vnd.google.colaboratory.intrinsic+json": {
              "type": "string"
            }
          },
          "metadata": {},
          "execution_count": 4
        }
      ]
    },
    {
      "cell_type": "code",
      "source": [
        "## Operadores\n",
        "## +,-,*,/,% y otros\n",
        "\n",
        "print(3+7)\n",
        "print(5-4)\n",
        "print(25%5)"
      ],
      "metadata": {
        "colab": {
          "base_uri": "https://localhost:8080/"
        },
        "id": "_mmp-tWvK-hN",
        "outputId": "257096e2-1691-4796-d941-892e3b6d164f"
      },
      "execution_count": 5,
      "outputs": [
        {
          "output_type": "stream",
          "name": "stdout",
          "text": [
            "10\n",
            "1\n",
            "0\n"
          ]
        }
      ]
    },
    {
      "cell_type": "code",
      "source": [
        "##Asignación\n",
        "x = 2\n",
        "y = 3\n",
        "print(x+y)"
      ],
      "metadata": {
        "colab": {
          "base_uri": "https://localhost:8080/"
        },
        "id": "M4Pghj4SLZF_",
        "outputId": "1e7a510c-97f0-4d80-f518-a21496b23088"
      },
      "execution_count": 6,
      "outputs": [
        {
          "output_type": "stream",
          "name": "stdout",
          "text": [
            "5\n"
          ]
        }
      ]
    },
    {
      "cell_type": "code",
      "source": [
        "##Reglas para crear variables\n",
        "##Regla\n",
        "# -Solo contiene letras, numeros y underscore, no puede empezar en numero.\n",
        "\n",
        "##buenas practicas\n",
        "# -relacionada con el significado de la variable\n",
        "# -minusculas y separadas por underscore"
      ],
      "metadata": {
        "id": "nzyBfJYuLmts"
      },
      "execution_count": null,
      "outputs": []
    },
    {
      "cell_type": "code",
      "source": [
        "x = 1000000\n",
        "poblacion_lima = 1000000"
      ],
      "metadata": {
        "id": "_wTvcUC0MIlY"
      },
      "execution_count": null,
      "outputs": []
    },
    {
      "cell_type": "code",
      "source": [
        "## Operadores de comparacion\n",
        "# >,<, ==, >=, <=\n",
        "\n",
        "print(3>7)\n",
        "print(5==4)\n",
        "print(25!=5)\n",
        "\n",
        "# and y or\n",
        "\n",
        "print(5==5 and 4==3)\n",
        "print(5==5 or 4==3)"
      ],
      "metadata": {
        "colab": {
          "base_uri": "https://localhost:8080/"
        },
        "id": "1mOmAy2oMNn5",
        "outputId": "7b700e4d-ba0b-4ad3-b12b-df6288f01737"
      },
      "execution_count": 7,
      "outputs": [
        {
          "output_type": "stream",
          "name": "stdout",
          "text": [
            "False\n",
            "False\n",
            "True\n",
            "False\n",
            "True\n"
          ]
        }
      ]
    },
    {
      "cell_type": "code",
      "source": [
        "x = 33 == 33\n",
        "print(x)"
      ],
      "metadata": {
        "colab": {
          "base_uri": "https://localhost:8080/"
        },
        "id": "Hozc3mcoM6hl",
        "outputId": "9870b7fd-3dd1-423b-a38a-1449a421ab94"
      },
      "execution_count": 9,
      "outputs": [
        {
          "output_type": "stream",
          "name": "stdout",
          "text": [
            "True\n"
          ]
        }
      ]
    },
    {
      "cell_type": "code",
      "source": [
        "## Strings\n",
        "my_string = \"hola como estas\""
      ],
      "metadata": {
        "id": "7vkgm6LPNEB9"
      },
      "execution_count": 11,
      "outputs": []
    },
    {
      "cell_type": "code",
      "source": [
        "print(my_string)"
      ],
      "metadata": {
        "colab": {
          "base_uri": "https://localhost:8080/"
        },
        "id": "HKjc8Zf1NV7B",
        "outputId": "c9a464b7-b52e-4195-9808-c7fe9a9c146b"
      },
      "execution_count": 12,
      "outputs": [
        {
          "output_type": "stream",
          "name": "stdout",
          "text": [
            "hola como estas\n"
          ]
        }
      ]
    },
    {
      "cell_type": "code",
      "source": [
        "my_string2 = \"\"\"hola \"como\" estas\"\"\"\n",
        "print(my_string2)"
      ],
      "metadata": {
        "colab": {
          "base_uri": "https://localhost:8080/"
        },
        "id": "0268llkXNcHu",
        "outputId": "db2a6a2d-1518-4d8c-ac60-0105ef4b5680"
      },
      "execution_count": 13,
      "outputs": [
        {
          "output_type": "stream",
          "name": "stdout",
          "text": [
            "hola \"como\" estas\n"
          ]
        }
      ]
    },
    {
      "cell_type": "code",
      "source": [
        "primera_palabra = 'boris'\n",
        "segunda_palabra = 'sinche'"
      ],
      "metadata": {
        "id": "n5HAs69uN_1R"
      },
      "execution_count": 15,
      "outputs": []
    },
    {
      "cell_type": "code",
      "source": [
        "primera_palabra + segunda_palabra"
      ],
      "metadata": {
        "colab": {
          "base_uri": "https://localhost:8080/",
          "height": 35
        },
        "id": "y7VMmTdmOaGK",
        "outputId": "53e8c192-91e9-4166-f907-f13eb4c733db"
      },
      "execution_count": 16,
      "outputs": [
        {
          "output_type": "execute_result",
          "data": {
            "text/plain": [
              "'borissinche'"
            ],
            "application/vnd.google.colaboratory.intrinsic+json": {
              "type": "string"
            }
          },
          "metadata": {},
          "execution_count": 16
        }
      ]
    },
    {
      "cell_type": "code",
      "source": [
        "primera_palabra*5"
      ],
      "metadata": {
        "colab": {
          "base_uri": "https://localhost:8080/",
          "height": 35
        },
        "id": "ZAjA2M_vOjQN",
        "outputId": "1e767fe1-3e3b-4806-c110-b129bed5665a"
      },
      "execution_count": 17,
      "outputs": [
        {
          "output_type": "execute_result",
          "data": {
            "text/plain": [
              "'borisborisborisborisboris'"
            ],
            "application/vnd.google.colaboratory.intrinsic+json": {
              "type": "string"
            }
          },
          "metadata": {},
          "execution_count": 17
        }
      ]
    },
    {
      "cell_type": "code",
      "source": [],
      "metadata": {
        "id": "0hgCFyMjOm7K"
      },
      "execution_count": null,
      "outputs": []
    }
  ]
}