{
  "nbformat": 4,
  "nbformat_minor": 0,
  "metadata": {
    "colab": {
      "provenance": [],
      "authorship_tag": "ABX9TyO9k1RrQEvObsGBsyWPKSwD",
      "include_colab_link": true
    },
    "kernelspec": {
      "name": "python3",
      "display_name": "Python 3"
    },
    "language_info": {
      "name": "python"
    }
  },
  "cells": [
    {
      "cell_type": "markdown",
      "metadata": {
        "id": "view-in-github",
        "colab_type": "text"
      },
      "source": [
        "<a href=\"https://colab.research.google.com/github/borissinchec/MyRepo/blob/main/taller_python_01.ipynb\" target=\"_parent\"><img src=\"https://colab.research.google.com/assets/colab-badge.svg\" alt=\"Open In Colab\"/></a>"
      ]
    },
    {
      "cell_type": "code",
      "execution_count": null,
      "metadata": {
        "id": "cQIbmc7HJPrB"
      },
      "outputs": [],
      "source": [
        "## Tipos de datos\n",
        "## Operadores\n",
        "## Contenedores de datos\n",
        "## Controladores de flujo\n",
        "## Funciones"
      ]
    },
    {
      "cell_type": "code",
      "source": [
        "3+7"
      ],
      "metadata": {
        "colab": {
          "base_uri": "https://localhost:8080/"
        },
        "id": "V1kJotUvKKPj",
        "outputId": "9f3e989e-119f-4506-bc05-44cafe9cd5da"
      },
      "execution_count": 1,
      "outputs": [
        {
          "output_type": "execute_result",
          "data": {
            "text/plain": [
              "10"
            ]
          },
          "metadata": {},
          "execution_count": 1
        }
      ]
    },
    {
      "cell_type": "code",
      "source": [
        "print(3+7)\n",
        "print(5-4)\n",
        "print(2*9)"
      ],
      "metadata": {
        "colab": {
          "base_uri": "https://localhost:8080/"
        },
        "id": "cM0zGu82KQow",
        "outputId": "9ff4dc05-f4ca-4264-da35-cd0ae9e374d0"
      },
      "execution_count": 3,
      "outputs": [
        {
          "output_type": "stream",
          "name": "stdout",
          "text": [
            "10\n",
            "1\n",
            "18\n"
          ]
        }
      ]
    },
    {
      "cell_type": "code",
      "source": [
        "## Tipos de datos\n",
        "## Integers, floats, booleans, string"
      ],
      "metadata": {
        "id": "F-Y7bnHUKheG"
      },
      "execution_count": null,
      "outputs": []
    },
    {
      "cell_type": "code",
      "source": [
        "4 #integer\n",
        "5 #integer\n",
        "3.5 #float\n",
        "3.8 #float\n",
        "True #boolean\n",
        "False #boolean\n",
        "\"Hola como estas\" #string"
      ],
      "metadata": {
        "colab": {
          "base_uri": "https://localhost:8080/",
          "height": 35
        },
        "id": "cwfiUrthKr7Y",
        "outputId": "fb55b74d-6b7c-4244-f29c-8eb5ba8e7397"
      },
      "execution_count": 4,
      "outputs": [
        {
          "output_type": "execute_result",
          "data": {
            "text/plain": [
              "'Hola como estas'"
            ],
            "application/vnd.google.colaboratory.intrinsic+json": {
              "type": "string"
            }
          },
          "metadata": {},
          "execution_count": 4
        }
      ]
    },
    {
      "cell_type": "code",
      "source": [
        "## Operadores\n",
        "## +,-,*,/,% y otros\n",
        "\n",
        "print(3+7)\n",
        "print(5-4)\n",
        "print(25%5)"
      ],
      "metadata": {
        "colab": {
          "base_uri": "https://localhost:8080/"
        },
        "id": "_mmp-tWvK-hN",
        "outputId": "257096e2-1691-4796-d941-892e3b6d164f"
      },
      "execution_count": 5,
      "outputs": [
        {
          "output_type": "stream",
          "name": "stdout",
          "text": [
            "10\n",
            "1\n",
            "0\n"
          ]
        }
      ]
    },
    {
      "cell_type": "code",
      "source": [
        "##Asignación\n",
        "x = 2\n",
        "y = 3\n",
        "print(x+y)"
      ],
      "metadata": {
        "colab": {
          "base_uri": "https://localhost:8080/"
        },
        "id": "M4Pghj4SLZF_",
        "outputId": "1e7a510c-97f0-4d80-f518-a21496b23088"
      },
      "execution_count": 6,
      "outputs": [
        {
          "output_type": "stream",
          "name": "stdout",
          "text": [
            "5\n"
          ]
        }
      ]
    },
    {
      "cell_type": "code",
      "source": [
        "##Reglas para crear variables\n",
        "##Regla\n",
        "# -Solo contiene letras, numeros y underscore, no puede empezar en numero.\n",
        "\n",
        "##buenas practicas\n",
        "# -relacionada con el significado de la variable\n",
        "# -minusculas y separadas por underscore"
      ],
      "metadata": {
        "id": "nzyBfJYuLmts"
      },
      "execution_count": null,
      "outputs": []
    },
    {
      "cell_type": "code",
      "source": [
        "x = 1000000\n",
        "poblacion_lima = 1000000"
      ],
      "metadata": {
        "id": "_wTvcUC0MIlY"
      },
      "execution_count": null,
      "outputs": []
    },
    {
      "cell_type": "code",
      "source": [
        "## Operadores de comparacion\n",
        "# >,<, ==, >=, <=\n",
        "\n",
        "print(3>7)\n",
        "print(5==4)\n",
        "print(25!=5)\n",
        "\n",
        "# and y or\n",
        "\n",
        "print(5==5 and 4==3)\n",
        "print(5==5 or 4==3)"
      ],
      "metadata": {
        "colab": {
          "base_uri": "https://localhost:8080/"
        },
        "id": "1mOmAy2oMNn5",
        "outputId": "7b700e4d-ba0b-4ad3-b12b-df6288f01737"
      },
      "execution_count": 7,
      "outputs": [
        {
          "output_type": "stream",
          "name": "stdout",
          "text": [
            "False\n",
            "False\n",
            "True\n",
            "False\n",
            "True\n"
          ]
        }
      ]
    },
    {
      "cell_type": "code",
      "source": [
        "x = 33 == 33\n",
        "print(x)"
      ],
      "metadata": {
        "colab": {
          "base_uri": "https://localhost:8080/"
        },
        "id": "Hozc3mcoM6hl",
        "outputId": "9870b7fd-3dd1-423b-a38a-1449a421ab94"
      },
      "execution_count": 9,
      "outputs": [
        {
          "output_type": "stream",
          "name": "stdout",
          "text": [
            "True\n"
          ]
        }
      ]
    },
    {
      "cell_type": "code",
      "source": [
        "## Strings\n",
        "my_string = \"hola como estas\""
      ],
      "metadata": {
        "id": "7vkgm6LPNEB9"
      },
      "execution_count": 11,
      "outputs": []
    },
    {
      "cell_type": "code",
      "source": [
        "print(my_string)"
      ],
      "metadata": {
        "colab": {
          "base_uri": "https://localhost:8080/"
        },
        "id": "HKjc8Zf1NV7B",
        "outputId": "c9a464b7-b52e-4195-9808-c7fe9a9c146b"
      },
      "execution_count": 12,
      "outputs": [
        {
          "output_type": "stream",
          "name": "stdout",
          "text": [
            "hola como estas\n"
          ]
        }
      ]
    },
    {
      "cell_type": "code",
      "source": [
        "my_string2 = \"\"\"hola \"como\" estas\"\"\"\n",
        "print(my_string2)"
      ],
      "metadata": {
        "colab": {
          "base_uri": "https://localhost:8080/"
        },
        "id": "0268llkXNcHu",
        "outputId": "db2a6a2d-1518-4d8c-ac60-0105ef4b5680"
      },
      "execution_count": 13,
      "outputs": [
        {
          "output_type": "stream",
          "name": "stdout",
          "text": [
            "hola \"como\" estas\n"
          ]
        }
      ]
    },
    {
      "cell_type": "code",
      "source": [
        "primera_palabra = 'boris'\n",
        "segunda_palabra = 'sinche'"
      ],
      "metadata": {
        "id": "n5HAs69uN_1R"
      },
      "execution_count": 15,
      "outputs": []
    },
    {
      "cell_type": "code",
      "source": [
        "primera_palabra + segunda_palabra"
      ],
      "metadata": {
        "colab": {
          "base_uri": "https://localhost:8080/",
          "height": 35
        },
        "id": "y7VMmTdmOaGK",
        "outputId": "53e8c192-91e9-4166-f907-f13eb4c733db"
      },
      "execution_count": 16,
      "outputs": [
        {
          "output_type": "execute_result",
          "data": {
            "text/plain": [
              "'borissinche'"
            ],
            "application/vnd.google.colaboratory.intrinsic+json": {
              "type": "string"
            }
          },
          "metadata": {},
          "execution_count": 16
        }
      ]
    },
    {
      "cell_type": "code",
      "source": [
        "primera_palabra*5"
      ],
      "metadata": {
        "colab": {
          "base_uri": "https://localhost:8080/",
          "height": 35
        },
        "id": "ZAjA2M_vOjQN",
        "outputId": "1e767fe1-3e3b-4806-c110-b129bed5665a"
      },
      "execution_count": 17,
      "outputs": [
        {
          "output_type": "execute_result",
          "data": {
            "text/plain": [
              "'borisborisborisborisboris'"
            ],
            "application/vnd.google.colaboratory.intrinsic+json": {
              "type": "string"
            }
          },
          "metadata": {},
          "execution_count": 17
        }
      ]
    },
    {
      "cell_type": "code",
      "source": [
        "## estructura de datos\n",
        "## listas y diccionarios"
      ],
      "metadata": {
        "id": "0hgCFyMjOm7K"
      },
      "execution_count": null,
      "outputs": []
    },
    {
      "cell_type": "code",
      "source": [
        "meses = ['enero','febrero','marzo','abril','mayo','junio','julio']"
      ],
      "metadata": {
        "id": "gk-uC9HcPWgb"
      },
      "execution_count": 18,
      "outputs": []
    },
    {
      "cell_type": "code",
      "source": [
        "meses[-2]"
      ],
      "metadata": {
        "colab": {
          "base_uri": "https://localhost:8080/",
          "height": 35
        },
        "id": "OCWCTLD-QHl3",
        "outputId": "82460bc7-54e7-47b7-d229-93d9c6d130cf"
      },
      "execution_count": 19,
      "outputs": [
        {
          "output_type": "execute_result",
          "data": {
            "text/plain": [
              "'junio'"
            ],
            "application/vnd.google.colaboratory.intrinsic+json": {
              "type": "string"
            }
          },
          "metadata": {},
          "execution_count": 19
        }
      ]
    },
    {
      "cell_type": "code",
      "source": [
        "'setiembre' in meses"
      ],
      "metadata": {
        "colab": {
          "base_uri": "https://localhost:8080/"
        },
        "id": "Y8sGyZa2QKw1",
        "outputId": "f2eee8c3-e451-48ed-be63-486f4fd56dac"
      },
      "execution_count": 20,
      "outputs": [
        {
          "output_type": "execute_result",
          "data": {
            "text/plain": [
              "False"
            ]
          },
          "metadata": {},
          "execution_count": 20
        }
      ]
    },
    {
      "cell_type": "code",
      "source": [
        "numeros = [1,2,3,4,5,6,7,8,9,10,11]"
      ],
      "metadata": {
        "id": "4F7NcvguQO-I"
      },
      "execution_count": 21,
      "outputs": []
    },
    {
      "cell_type": "code",
      "source": [
        "len(numeros)"
      ],
      "metadata": {
        "colab": {
          "base_uri": "https://localhost:8080/"
        },
        "id": "qHJVIS9TQUKX",
        "outputId": "e13d8915-c1ee-472a-c679-18c6e0f9cb15"
      },
      "execution_count": 22,
      "outputs": [
        {
          "output_type": "execute_result",
          "data": {
            "text/plain": [
              "11"
            ]
          },
          "metadata": {},
          "execution_count": 22
        }
      ]
    },
    {
      "cell_type": "code",
      "source": [
        "max(numeros)"
      ],
      "metadata": {
        "colab": {
          "base_uri": "https://localhost:8080/"
        },
        "id": "DptPiuJdQWpf",
        "outputId": "4dc0a033-3cd4-47c7-80b0-7a1397ea86ec"
      },
      "execution_count": 23,
      "outputs": [
        {
          "output_type": "execute_result",
          "data": {
            "text/plain": [
              "11"
            ]
          },
          "metadata": {},
          "execution_count": 23
        }
      ]
    },
    {
      "cell_type": "code",
      "source": [
        "min(numeros)"
      ],
      "metadata": {
        "colab": {
          "base_uri": "https://localhost:8080/"
        },
        "id": "Mv1RqBGaQZbw",
        "outputId": "f654d8b0-ac67-4061-936c-7e2d21b75c51"
      },
      "execution_count": 24,
      "outputs": [
        {
          "output_type": "execute_result",
          "data": {
            "text/plain": [
              "1"
            ]
          },
          "metadata": {},
          "execution_count": 24
        }
      ]
    },
    {
      "cell_type": "code",
      "source": [
        "numeros.append(28)"
      ],
      "metadata": {
        "id": "f5lH5i6qQbma"
      },
      "execution_count": 25,
      "outputs": []
    },
    {
      "cell_type": "code",
      "source": [
        "print(numeros)"
      ],
      "metadata": {
        "colab": {
          "base_uri": "https://localhost:8080/"
        },
        "id": "L8GiyCYoQfij",
        "outputId": "4fe0213e-b5ce-4e66-8a53-856ab3766c6a"
      },
      "execution_count": 26,
      "outputs": [
        {
          "output_type": "stream",
          "name": "stdout",
          "text": [
            "[1, 2, 3, 4, 5, 6, 7, 8, 9, 10, 11, 28]\n"
          ]
        }
      ]
    },
    {
      "cell_type": "code",
      "source": [
        "numeros.reverse()"
      ],
      "metadata": {
        "id": "gDjE2Xi6QwIr"
      },
      "execution_count": 27,
      "outputs": []
    },
    {
      "cell_type": "code",
      "source": [
        "print(numeros)"
      ],
      "metadata": {
        "colab": {
          "base_uri": "https://localhost:8080/"
        },
        "id": "LhbDWf24Qybw",
        "outputId": "18a568a6-3708-477e-9506-7e9eacd65f2d"
      },
      "execution_count": 28,
      "outputs": [
        {
          "output_type": "stream",
          "name": "stdout",
          "text": [
            "[28, 11, 10, 9, 8, 7, 6, 5, 4, 3, 2, 1]\n"
          ]
        }
      ]
    },
    {
      "cell_type": "code",
      "source": [
        "##diccionarios\n",
        "# llave y valor\n",
        "\n",
        "elementos_quimicos = {'hidrogeno':1,'helio':2,'carbono':3}"
      ],
      "metadata": {
        "id": "z92hIj3hQ0MW"
      },
      "execution_count": 29,
      "outputs": []
    },
    {
      "cell_type": "code",
      "source": [
        "print(elementos_quimicos)"
      ],
      "metadata": {
        "colab": {
          "base_uri": "https://localhost:8080/"
        },
        "id": "mfMgKqP1RXVz",
        "outputId": "7286c3c4-f4eb-4e89-a922-77c9deca5a86"
      },
      "execution_count": 30,
      "outputs": [
        {
          "output_type": "stream",
          "name": "stdout",
          "text": [
            "{'hidrogeno': 1, 'helio': 2, 'carbono': 3}\n"
          ]
        }
      ]
    },
    {
      "cell_type": "code",
      "source": [
        "elementos_quimicos = {'hidrogeno':{'peso_quimico':1,'carga':54},'helio':2,'carbono':3}"
      ],
      "metadata": {
        "id": "Kqj5c5K5Rshi"
      },
      "execution_count": 33,
      "outputs": []
    },
    {
      "cell_type": "code",
      "source": [
        "print(elementos_quimicos)"
      ],
      "metadata": {
        "colab": {
          "base_uri": "https://localhost:8080/"
        },
        "id": "oGSVu2yqSHEO",
        "outputId": "dea71d73-2538-43aa-ac57-ceea5f4e361c"
      },
      "execution_count": 34,
      "outputs": [
        {
          "output_type": "stream",
          "name": "stdout",
          "text": [
            "{'hidrogeno': {'peso_quimico': 1, 'carga': 54}, 'helio': 2, 'carbono': 3}\n"
          ]
        }
      ]
    },
    {
      "cell_type": "code",
      "source": [
        "elementos_quimicos['hidrogeno']"
      ],
      "metadata": {
        "colab": {
          "base_uri": "https://localhost:8080/"
        },
        "id": "K1H655wGSQpF",
        "outputId": "b11d892f-5ebb-4b80-e904-654f8acf5d52"
      },
      "execution_count": 35,
      "outputs": [
        {
          "output_type": "execute_result",
          "data": {
            "text/plain": [
              "{'peso_quimico': 1, 'carga': 54}"
            ]
          },
          "metadata": {},
          "execution_count": 35
        }
      ]
    },
    {
      "cell_type": "code",
      "source": [
        "elementos_quimicos['hidrogeno']['carga']"
      ],
      "metadata": {
        "colab": {
          "base_uri": "https://localhost:8080/"
        },
        "id": "pzWxrCZZSt2H",
        "outputId": "0f08becd-ff24-497a-a69a-0b9f812b1154"
      },
      "execution_count": 39,
      "outputs": [
        {
          "output_type": "execute_result",
          "data": {
            "text/plain": [
              "54"
            ]
          },
          "metadata": {},
          "execution_count": 39
        }
      ]
    },
    {
      "cell_type": "code",
      "source": [
        "elementos_quimicos_1 = {'hidrogeno':{1:'peso_quimico','carga':54},'helio':2,'carbono':3}"
      ],
      "metadata": {
        "id": "vhE8TtDVSXwm"
      },
      "execution_count": 36,
      "outputs": []
    },
    {
      "cell_type": "code",
      "source": [
        "elementos_quimicos_1['hidrogeno'][1]"
      ],
      "metadata": {
        "colab": {
          "base_uri": "https://localhost:8080/",
          "height": 35
        },
        "id": "ZC5cQ4RJSkZk",
        "outputId": "8a541778-cf3d-47cc-d2bd-8124e0a314fb"
      },
      "execution_count": 38,
      "outputs": [
        {
          "output_type": "execute_result",
          "data": {
            "text/plain": [
              "'peso_quimico'"
            ],
            "application/vnd.google.colaboratory.intrinsic+json": {
              "type": "string"
            }
          },
          "metadata": {},
          "execution_count": 38
        }
      ]
    },
    {
      "cell_type": "code",
      "source": [
        "## if statement\n",
        "## ejecutar algunas lineas si se cumple condición"
      ],
      "metadata": {
        "id": "x1rPHV0XWIQ6"
      },
      "execution_count": null,
      "outputs": []
    },
    {
      "cell_type": "code",
      "source": [
        "x = 2\n",
        "y = 4\n",
        "print(x+y )"
      ],
      "metadata": {
        "colab": {
          "base_uri": "https://localhost:8080/"
        },
        "id": "ERy2-e1ZWViq",
        "outputId": "a640ce0e-f793-4c47-a6dc-61e398b60701"
      },
      "execution_count": 41,
      "outputs": [
        {
          "output_type": "stream",
          "name": "stdout",
          "text": [
            "6\n"
          ]
        }
      ]
    },
    {
      "cell_type": "code",
      "source": [
        "if x>y:\n",
        "  print(x, \" es mayor q \", y)\n",
        "else:\n",
        "  print(y, \" es mayor q \", x)"
      ],
      "metadata": {
        "colab": {
          "base_uri": "https://localhost:8080/"
        },
        "id": "Kz4sfB1VYpqV",
        "outputId": "b3dad81a-2c46-4ce1-a161-65c936f15ba5"
      },
      "execution_count": 42,
      "outputs": [
        {
          "output_type": "stream",
          "name": "stdout",
          "text": [
            "4  es mayor q  2\n"
          ]
        }
      ]
    },
    {
      "cell_type": "code",
      "source": [
        "depar = ['lima','trujillo','arequipa','piura']"
      ],
      "metadata": {
        "id": "cs-0m9nGZCQz"
      },
      "execution_count": 43,
      "outputs": []
    },
    {
      "cell_type": "code",
      "source": [
        "for x in depar:\n",
        "  print(x)"
      ],
      "metadata": {
        "colab": {
          "base_uri": "https://localhost:8080/"
        },
        "id": "_jdlaYB-ZNs2",
        "outputId": "9d1c9805-9f52-412d-c44f-1b16f18df7b1"
      },
      "execution_count": 45,
      "outputs": [
        {
          "output_type": "stream",
          "name": "stdout",
          "text": [
            "lima\n",
            "trujillo\n",
            "arequipa\n",
            "piura\n"
          ]
        }
      ]
    },
    {
      "cell_type": "code",
      "source": [
        "## Control Flows\n",
        "## Funciones"
      ],
      "metadata": {
        "id": "B8eNBc6rSzoL"
      },
      "execution_count": null,
      "outputs": []
    },
    {
      "cell_type": "code",
      "source": [
        "def calcular_volumen_cilindro (alto, radio):\n",
        "  pi = 3.141592\n",
        "  volumen = alto*pi*radio**2\n",
        "  return(volumen)\n",
        "print(2+3)"
      ],
      "metadata": {
        "colab": {
          "base_uri": "https://localhost:8080/"
        },
        "id": "OG_Crcb8Zja2",
        "outputId": "1a321ca7-5eff-4683-e245-748c190bbddf"
      },
      "execution_count": 52,
      "outputs": [
        {
          "output_type": "stream",
          "name": "stdout",
          "text": [
            "5\n"
          ]
        }
      ]
    },
    {
      "cell_type": "code",
      "source": [
        "calcular_volumen_cilindro(2,2)"
      ],
      "metadata": {
        "colab": {
          "base_uri": "https://localhost:8080/"
        },
        "id": "ZUpj44EJZ2lI",
        "outputId": "b516a38a-0539-457c-e2a9-9ea598fda3bd"
      },
      "execution_count": 53,
      "outputs": [
        {
          "output_type": "execute_result",
          "data": {
            "text/plain": [
              "25.132736"
            ]
          },
          "metadata": {},
          "execution_count": 53
        }
      ]
    },
    {
      "cell_type": "code",
      "source": [
        "calcular_volumen_cilindro(2.5,3)"
      ],
      "metadata": {
        "colab": {
          "base_uri": "https://localhost:8080/"
        },
        "id": "-PBnqTZ7aNkM",
        "outputId": "d7e442ed-d720-4fda-b5d2-c7d84643eb06"
      },
      "execution_count": 54,
      "outputs": [
        {
          "output_type": "execute_result",
          "data": {
            "text/plain": [
              "70.68582"
            ]
          },
          "metadata": {},
          "execution_count": 54
        }
      ]
    },
    {
      "cell_type": "code",
      "source": [
        "def calcular_volumen_cilindro (alto, radio=2):\n",
        "  pi = 3.141592\n",
        "  volumen = alto*pi*radio**2\n",
        "  return(volumen)"
      ],
      "metadata": {
        "id": "QN3eLtktaR7b"
      },
      "execution_count": 55,
      "outputs": []
    },
    {
      "cell_type": "code",
      "source": [
        "calcular_volumen_cilindro(5,3)"
      ],
      "metadata": {
        "colab": {
          "base_uri": "https://localhost:8080/"
        },
        "id": "aTLbrvxYaazB",
        "outputId": "832a3471-2033-4aac-ee62-e16109c127e5"
      },
      "execution_count": 57,
      "outputs": [
        {
          "output_type": "execute_result",
          "data": {
            "text/plain": [
              "141.37164"
            ]
          },
          "metadata": {},
          "execution_count": 57
        }
      ]
    },
    {
      "cell_type": "code",
      "source": [
        "##componentes\n"
      ],
      "metadata": {
        "id": "GjGU-zXwahwf"
      },
      "execution_count": null,
      "outputs": []
    },
    {
      "cell_type": "code",
      "source": [
        "##Data un arreglo de enteros, retorna verdadero si el numero 6 aparece al inicio o al final en el arreglo, la lista debe tener al menos un elemento"
      ],
      "metadata": {
        "id": "7MECX7DAbLsj"
      },
      "execution_count": null,
      "outputs": []
    },
    {
      "cell_type": "code",
      "source": [
        "lista = [2,5,3,8,7,9]"
      ],
      "metadata": {
        "id": "zpnQLW27brGH"
      },
      "execution_count": 58,
      "outputs": []
    },
    {
      "cell_type": "code",
      "source": [
        "lista[0]"
      ],
      "metadata": {
        "colab": {
          "base_uri": "https://localhost:8080/"
        },
        "id": "PtTNNtG0bxng",
        "outputId": "b7c9f57d-54be-4e42-b7ad-e59bfa587cec"
      },
      "execution_count": 59,
      "outputs": [
        {
          "output_type": "execute_result",
          "data": {
            "text/plain": [
              "2"
            ]
          },
          "metadata": {},
          "execution_count": 59
        }
      ]
    },
    {
      "cell_type": "code",
      "source": [
        "##Given an array of ints, return True if 6 appears as either the first or last element in the array.\n",
        "##The array will be length 1 or more.\n",
        "\n",
        "#first_last6([1, 2, 6]) → True\n",
        "#first_last6([6, 1, 2, 3]) → True\n",
        "#first_last6([13, 6, 1, 2, 3]) → False"
      ],
      "metadata": {
        "id": "4DVv1X9eh6TZ"
      },
      "execution_count": null,
      "outputs": []
    },
    {
      "cell_type": "code",
      "source": [
        "def first_last6(lista):\n",
        "  pos_ini = lista[0]\n",
        "  pos_fin = lista[-1]\n",
        "  if pos_ini == 6 or pos_fin == 6:\n",
        "    return True\n",
        "  else:\n",
        "    return False"
      ],
      "metadata": {
        "id": "ITKdeTS-b0Ev"
      },
      "execution_count": 60,
      "outputs": []
    },
    {
      "cell_type": "code",
      "source": [
        "nums = [2,5,3,8,7,3]"
      ],
      "metadata": {
        "id": "jElGXq3FdWLT"
      },
      "execution_count": 71,
      "outputs": []
    },
    {
      "cell_type": "code",
      "source": [
        "#Given an array of ints, return True if the array is length 1 or more, and the first element and the last element are equal.\n",
        "\n",
        "#same_first_last([1, 2, 3]) → False\n",
        "#same_first_last([1, 2, 3, 1]) → True\n",
        "#same_first_last([1, 2, 1]) → True"
      ],
      "metadata": {
        "id": "euJ8SHN6hv98"
      },
      "execution_count": null,
      "outputs": []
    },
    {
      "cell_type": "code",
      "source": [
        "def same_first_last(nums):\n",
        "  if len(nums)>0:\n",
        "    pos_ini = nums[0]\n",
        "    pos_fin = nums[-1]\n",
        "    len_nums = len(nums)\n",
        "    if pos_ini == pos_fin:\n",
        "      return True\n",
        "    else:\n",
        "      return False\n",
        "  else:\n",
        "    return False"
      ],
      "metadata": {
        "id": "cfP7asM6dWmo"
      },
      "execution_count": 69,
      "outputs": []
    },
    {
      "cell_type": "code",
      "source": [
        "same_first_last(nums)"
      ],
      "metadata": {
        "colab": {
          "base_uri": "https://localhost:8080/"
        },
        "id": "jolvEJ6pdcG3",
        "outputId": "3ffb7207-10eb-45a4-a4cd-47e1c56ac4dd"
      },
      "execution_count": 72,
      "outputs": [
        {
          "output_type": "execute_result",
          "data": {
            "text/plain": [
              "False"
            ]
          },
          "metadata": {},
          "execution_count": 72
        }
      ]
    },
    {
      "cell_type": "code",
      "source": [
        "##Return an int array length 3 containing the first 3 digits of pi, {3, 1, 4}.\n",
        "\n",
        "#make_pi() → [3, 1, 4]"
      ],
      "metadata": {
        "id": "Gc8vMwDkhtt9"
      },
      "execution_count": null,
      "outputs": []
    },
    {
      "cell_type": "code",
      "source": [
        "\n",
        "def make_pi():\n",
        "  list = []\n",
        "  list.append(3)\n",
        "  list.append(1)\n",
        "  list.append(4)\n",
        "  return list\n",
        ""
      ],
      "metadata": {
        "id": "mDzZ6uGhfZcF"
      },
      "execution_count": null,
      "outputs": []
    },
    {
      "cell_type": "code",
      "source": [
        "##Given 2 arrays of ints, a and b, return True if they have the same first\n",
        "##element or they have the same last element. Both arrays will be length 1 or more.\n",
        "\n",
        "#common_end([1, 2, 3], [7, 3]) → True\n",
        "#common_end([1, 2, 3], [7, 3, 2]) → False\n",
        "#common_end([1, 2, 3], [1, 3]) → True"
      ],
      "metadata": {
        "id": "tZCANKvyhkR7"
      },
      "execution_count": null,
      "outputs": []
    },
    {
      "cell_type": "code",
      "source": [
        "def common_end(a, b):\n",
        "  if len(a)>0 and len(b)>0:\n",
        "    pos_a_ini = a[0]\n",
        "    pos_a_fin = a[-1]\n",
        "    pos_b_ini = b[0]\n",
        "    pos_b_fin = b[-1]\n",
        "    if pos_a_ini == pos_b_ini or pos_a_fin == pos_b_fin:\n",
        "      return True\n",
        "    else:\n",
        "      return False\n",
        "  else:\n",
        "    return False"
      ],
      "metadata": {
        "id": "5SVqOmPkhi16"
      },
      "execution_count": null,
      "outputs": []
    }
  ]
}